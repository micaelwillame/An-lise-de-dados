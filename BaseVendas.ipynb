{
  "nbformat": 4,
  "nbformat_minor": 0,
  "metadata": {
    "colab": {
      "provenance": [],
      "include_colab_link": true
    },
    "kernelspec": {
      "name": "python3",
      "display_name": "Python 3"
    }
  },
  "cells": [
    {
      "cell_type": "markdown",
      "metadata": {
        "id": "view-in-github",
        "colab_type": "text"
      },
      "source": [
        "<a href=\"https://colab.research.google.com/github/micaelwillame/An-lise-de-dados/blob/master/BaseVendas.ipynb\" target=\"_parent\"><img src=\"https://colab.research.google.com/assets/colab-badge.svg\" alt=\"Open In Colab\"/></a>"
      ]
    },
    {
      "cell_type": "code",
      "metadata": {
        "id": "c9tHRziJEX_q"
      },
      "source": [
        "import numpy as np\n",
        "import matplotlib.pyplot as plt\n",
        "import pandas as pd\n",
        "%matplotlib inline"
      ],
      "execution_count": null,
      "outputs": []
    },
    {
      "cell_type": "code",
      "metadata": {
        "id": "ZlZ-aKaYOuo8",
        "colab": {
          "base_uri": "https://localhost:8080/",
          "height": 91
        },
        "outputId": "de52f162-8a2a-4477-f49a-78a800e57a7d"
      },
      "source": [
        "%pylab inline\n",
        "import seaborn as sns\n",
        "plt.style.use('ggplot')"
      ],
      "execution_count": null,
      "outputs": [
        {
          "output_type": "stream",
          "text": [
            "Populating the interactive namespace from numpy and matplotlib\n"
          ],
          "name": "stdout"
        },
        {
          "output_type": "stream",
          "text": [
            "/usr/local/lib/python3.6/dist-packages/statsmodels/tools/_testing.py:19: FutureWarning: pandas.util.testing is deprecated. Use the functions in the public API at pandas.testing instead.\n",
            "  import pandas.util.testing as tm\n"
          ],
          "name": "stderr"
        }
      ]
    },
    {
      "cell_type": "code",
      "metadata": {
        "id": "Bk4z41oLGEGP"
      },
      "source": [
        "from google.colab import drive"
      ],
      "execution_count": null,
      "outputs": []
    },
    {
      "cell_type": "code",
      "metadata": {
        "id": "ILfs8Bt_GEEg",
        "colab": {
          "base_uri": "https://localhost:8080/",
          "height": 127
        },
        "outputId": "7853c482-be7d-430d-e7b6-40fb68db0673"
      },
      "source": [
        "drive.mount('/content/drive')"
      ],
      "execution_count": null,
      "outputs": [
        {
          "output_type": "stream",
          "text": [
            "Go to this URL in a browser: https://accounts.google.com/o/oauth2/auth?client_id=947318989803-6bn6qk8qdgf4n4g3pfee6491hc0brc4i.apps.googleusercontent.com&redirect_uri=urn%3aietf%3awg%3aoauth%3a2.0%3aoob&response_type=code&scope=email%20https%3a%2f%2fwww.googleapis.com%2fauth%2fdocs.test%20https%3a%2f%2fwww.googleapis.com%2fauth%2fdrive%20https%3a%2f%2fwww.googleapis.com%2fauth%2fdrive.photos.readonly%20https%3a%2f%2fwww.googleapis.com%2fauth%2fpeopleapi.readonly\n",
            "\n",
            "Enter your authorization code:\n",
            "··········\n",
            "Mounted at /content/drive\n"
          ],
          "name": "stdout"
        }
      ]
    },
    {
      "cell_type": "code",
      "metadata": {
        "id": "1neG9h1UGEB5"
      },
      "source": [
        "df = pd.read_excel('/content/drive/My Drive/Datasets/Estudo/BaseVendas.xlsx')"
      ],
      "execution_count": null,
      "outputs": []
    },
    {
      "cell_type": "code",
      "metadata": {
        "id": "yiursQH_GD-Y",
        "colab": {
          "base_uri": "https://localhost:8080/",
          "height": 343
        },
        "outputId": "3f4610e9-61f6-4e78-b0ec-029fb663aa58"
      },
      "source": [
        "df.head()"
      ],
      "execution_count": null,
      "outputs": [
        {
          "output_type": "execute_result",
          "data": {
            "text/html": [
              "<div>\n",
              "<style scoped>\n",
              "    .dataframe tbody tr th:only-of-type {\n",
              "        vertical-align: middle;\n",
              "    }\n",
              "\n",
              "    .dataframe tbody tr th {\n",
              "        vertical-align: top;\n",
              "    }\n",
              "\n",
              "    .dataframe thead th {\n",
              "        text-align: right;\n",
              "    }\n",
              "</style>\n",
              "<table border=\"1\" class=\"dataframe\">\n",
              "  <thead>\n",
              "    <tr style=\"text-align: right;\">\n",
              "      <th></th>\n",
              "      <th>Produto</th>\n",
              "      <th>Categoria</th>\n",
              "      <th>Valor</th>\n",
              "      <th>Quantidade</th>\n",
              "      <th>Total bruto</th>\n",
              "      <th>Forma de pagamento</th>\n",
              "      <th>Data da venda</th>\n",
              "      <th>Mês da venda</th>\n",
              "      <th>Ano da Venda</th>\n",
              "      <th>Data 1º pagamento</th>\n",
              "      <th>Desconto concedido à vista</th>\n",
              "      <th>Total liquido</th>\n",
              "      <th>Nº filial</th>\n",
              "      <th>Filial</th>\n",
              "      <th>Vendedor</th>\n",
              "      <th>Canal de venda</th>\n",
              "      <th>Comissão</th>\n",
              "    </tr>\n",
              "  </thead>\n",
              "  <tbody>\n",
              "    <tr>\n",
              "      <th>0</th>\n",
              "      <td>Casaco</td>\n",
              "      <td>Seção Feminina</td>\n",
              "      <td>44</td>\n",
              "      <td>8</td>\n",
              "      <td>352</td>\n",
              "      <td>À vista boleto</td>\n",
              "      <td>2017-01-01</td>\n",
              "      <td>janeiro</td>\n",
              "      <td>2017</td>\n",
              "      <td>2017-01-02</td>\n",
              "      <td>24.64</td>\n",
              "      <td>327.36</td>\n",
              "      <td>3</td>\n",
              "      <td>Sudeste</td>\n",
              "      <td>Micaela</td>\n",
              "      <td>Manual</td>\n",
              "      <td>17.60</td>\n",
              "    </tr>\n",
              "    <tr>\n",
              "      <th>1</th>\n",
              "      <td>Calça</td>\n",
              "      <td>Seção Masculina</td>\n",
              "      <td>38</td>\n",
              "      <td>17</td>\n",
              "      <td>646</td>\n",
              "      <td>À vista boleto</td>\n",
              "      <td>2017-01-02</td>\n",
              "      <td>janeiro</td>\n",
              "      <td>2017</td>\n",
              "      <td>2017-01-03</td>\n",
              "      <td>45.22</td>\n",
              "      <td>600.78</td>\n",
              "      <td>2</td>\n",
              "      <td>Sul</td>\n",
              "      <td>Micaela</td>\n",
              "      <td>Manual</td>\n",
              "      <td>32.30</td>\n",
              "    </tr>\n",
              "    <tr>\n",
              "      <th>2</th>\n",
              "      <td>Sapato</td>\n",
              "      <td>Seção Masculina</td>\n",
              "      <td>26</td>\n",
              "      <td>6</td>\n",
              "      <td>156</td>\n",
              "      <td>Boleto à prazo</td>\n",
              "      <td>2017-01-03</td>\n",
              "      <td>janeiro</td>\n",
              "      <td>2017</td>\n",
              "      <td>2017-02-02</td>\n",
              "      <td>0.00</td>\n",
              "      <td>156.00</td>\n",
              "      <td>1</td>\n",
              "      <td>E-commerce</td>\n",
              "      <td>E-commerce</td>\n",
              "      <td>Internet</td>\n",
              "      <td>0.00</td>\n",
              "    </tr>\n",
              "    <tr>\n",
              "      <th>3</th>\n",
              "      <td>Vestido</td>\n",
              "      <td>Seção Feminina</td>\n",
              "      <td>21</td>\n",
              "      <td>67</td>\n",
              "      <td>1407</td>\n",
              "      <td>Boleto à prazo</td>\n",
              "      <td>2017-01-03</td>\n",
              "      <td>janeiro</td>\n",
              "      <td>2017</td>\n",
              "      <td>2017-02-02</td>\n",
              "      <td>0.00</td>\n",
              "      <td>1407.00</td>\n",
              "      <td>2</td>\n",
              "      <td>Sul</td>\n",
              "      <td>Natália</td>\n",
              "      <td>Manual</td>\n",
              "      <td>211.05</td>\n",
              "    </tr>\n",
              "    <tr>\n",
              "      <th>4</th>\n",
              "      <td>Vestido</td>\n",
              "      <td>Seção Feminina</td>\n",
              "      <td>21</td>\n",
              "      <td>43</td>\n",
              "      <td>903</td>\n",
              "      <td>Boleto à prazo</td>\n",
              "      <td>2017-01-04</td>\n",
              "      <td>janeiro</td>\n",
              "      <td>2017</td>\n",
              "      <td>2017-02-03</td>\n",
              "      <td>0.00</td>\n",
              "      <td>903.00</td>\n",
              "      <td>1</td>\n",
              "      <td>E-commerce</td>\n",
              "      <td>E-commerce</td>\n",
              "      <td>Internet</td>\n",
              "      <td>0.00</td>\n",
              "    </tr>\n",
              "  </tbody>\n",
              "</table>\n",
              "</div>"
            ],
            "text/plain": [
              "   Produto        Categoria  Valor  ...    Vendedor  Canal de venda Comissão\n",
              "0   Casaco   Seção Feminina     44  ...     Micaela          Manual    17.60\n",
              "1    Calça  Seção Masculina     38  ...     Micaela          Manual    32.30\n",
              "2   Sapato  Seção Masculina     26  ...  E-commerce        Internet     0.00\n",
              "3  Vestido   Seção Feminina     21  ...     Natália          Manual   211.05\n",
              "4  Vestido   Seção Feminina     21  ...  E-commerce        Internet     0.00\n",
              "\n",
              "[5 rows x 17 columns]"
            ]
          },
          "metadata": {
            "tags": []
          },
          "execution_count": 6
        }
      ]
    },
    {
      "cell_type": "code",
      "metadata": {
        "id": "nCBckriLJd1y"
      },
      "source": [
        "rt = df"
      ],
      "execution_count": null,
      "outputs": []
    },
    {
      "cell_type": "code",
      "metadata": {
        "id": "1J9e2hMQJjJi",
        "colab": {
          "base_uri": "https://localhost:8080/",
          "height": 343
        },
        "outputId": "24d4823a-d409-40fe-909b-d254c979f5a0"
      },
      "source": [
        "rt.head()"
      ],
      "execution_count": null,
      "outputs": [
        {
          "output_type": "execute_result",
          "data": {
            "text/html": [
              "<div>\n",
              "<style scoped>\n",
              "    .dataframe tbody tr th:only-of-type {\n",
              "        vertical-align: middle;\n",
              "    }\n",
              "\n",
              "    .dataframe tbody tr th {\n",
              "        vertical-align: top;\n",
              "    }\n",
              "\n",
              "    .dataframe thead th {\n",
              "        text-align: right;\n",
              "    }\n",
              "</style>\n",
              "<table border=\"1\" class=\"dataframe\">\n",
              "  <thead>\n",
              "    <tr style=\"text-align: right;\">\n",
              "      <th></th>\n",
              "      <th>Produto</th>\n",
              "      <th>Categoria</th>\n",
              "      <th>Valor</th>\n",
              "      <th>Quantidade</th>\n",
              "      <th>Total bruto</th>\n",
              "      <th>Forma de pagamento</th>\n",
              "      <th>Data da venda</th>\n",
              "      <th>Mês da venda</th>\n",
              "      <th>Ano da Venda</th>\n",
              "      <th>Data 1º pagamento</th>\n",
              "      <th>Desconto concedido à vista</th>\n",
              "      <th>Total liquido</th>\n",
              "      <th>Nº filial</th>\n",
              "      <th>Filial</th>\n",
              "      <th>Vendedor</th>\n",
              "      <th>Canal de venda</th>\n",
              "      <th>Comissão</th>\n",
              "    </tr>\n",
              "  </thead>\n",
              "  <tbody>\n",
              "    <tr>\n",
              "      <th>0</th>\n",
              "      <td>Casaco</td>\n",
              "      <td>Seção Feminina</td>\n",
              "      <td>44</td>\n",
              "      <td>8</td>\n",
              "      <td>352</td>\n",
              "      <td>À vista boleto</td>\n",
              "      <td>2017-01-01</td>\n",
              "      <td>janeiro</td>\n",
              "      <td>2017</td>\n",
              "      <td>2017-01-02</td>\n",
              "      <td>24.64</td>\n",
              "      <td>327.36</td>\n",
              "      <td>3</td>\n",
              "      <td>Sudeste</td>\n",
              "      <td>Micaela</td>\n",
              "      <td>Manual</td>\n",
              "      <td>17.60</td>\n",
              "    </tr>\n",
              "    <tr>\n",
              "      <th>1</th>\n",
              "      <td>Calça</td>\n",
              "      <td>Seção Masculina</td>\n",
              "      <td>38</td>\n",
              "      <td>17</td>\n",
              "      <td>646</td>\n",
              "      <td>À vista boleto</td>\n",
              "      <td>2017-01-02</td>\n",
              "      <td>janeiro</td>\n",
              "      <td>2017</td>\n",
              "      <td>2017-01-03</td>\n",
              "      <td>45.22</td>\n",
              "      <td>600.78</td>\n",
              "      <td>2</td>\n",
              "      <td>Sul</td>\n",
              "      <td>Micaela</td>\n",
              "      <td>Manual</td>\n",
              "      <td>32.30</td>\n",
              "    </tr>\n",
              "    <tr>\n",
              "      <th>2</th>\n",
              "      <td>Sapato</td>\n",
              "      <td>Seção Masculina</td>\n",
              "      <td>26</td>\n",
              "      <td>6</td>\n",
              "      <td>156</td>\n",
              "      <td>Boleto à prazo</td>\n",
              "      <td>2017-01-03</td>\n",
              "      <td>janeiro</td>\n",
              "      <td>2017</td>\n",
              "      <td>2017-02-02</td>\n",
              "      <td>0.00</td>\n",
              "      <td>156.00</td>\n",
              "      <td>1</td>\n",
              "      <td>E-commerce</td>\n",
              "      <td>E-commerce</td>\n",
              "      <td>Internet</td>\n",
              "      <td>0.00</td>\n",
              "    </tr>\n",
              "    <tr>\n",
              "      <th>3</th>\n",
              "      <td>Vestido</td>\n",
              "      <td>Seção Feminina</td>\n",
              "      <td>21</td>\n",
              "      <td>67</td>\n",
              "      <td>1407</td>\n",
              "      <td>Boleto à prazo</td>\n",
              "      <td>2017-01-03</td>\n",
              "      <td>janeiro</td>\n",
              "      <td>2017</td>\n",
              "      <td>2017-02-02</td>\n",
              "      <td>0.00</td>\n",
              "      <td>1407.00</td>\n",
              "      <td>2</td>\n",
              "      <td>Sul</td>\n",
              "      <td>Natália</td>\n",
              "      <td>Manual</td>\n",
              "      <td>211.05</td>\n",
              "    </tr>\n",
              "    <tr>\n",
              "      <th>4</th>\n",
              "      <td>Vestido</td>\n",
              "      <td>Seção Feminina</td>\n",
              "      <td>21</td>\n",
              "      <td>43</td>\n",
              "      <td>903</td>\n",
              "      <td>Boleto à prazo</td>\n",
              "      <td>2017-01-04</td>\n",
              "      <td>janeiro</td>\n",
              "      <td>2017</td>\n",
              "      <td>2017-02-03</td>\n",
              "      <td>0.00</td>\n",
              "      <td>903.00</td>\n",
              "      <td>1</td>\n",
              "      <td>E-commerce</td>\n",
              "      <td>E-commerce</td>\n",
              "      <td>Internet</td>\n",
              "      <td>0.00</td>\n",
              "    </tr>\n",
              "  </tbody>\n",
              "</table>\n",
              "</div>"
            ],
            "text/plain": [
              "   Produto        Categoria  Valor  ...    Vendedor  Canal de venda Comissão\n",
              "0   Casaco   Seção Feminina     44  ...     Micaela          Manual    17.60\n",
              "1    Calça  Seção Masculina     38  ...     Micaela          Manual    32.30\n",
              "2   Sapato  Seção Masculina     26  ...  E-commerce        Internet     0.00\n",
              "3  Vestido   Seção Feminina     21  ...     Natália          Manual   211.05\n",
              "4  Vestido   Seção Feminina     21  ...  E-commerce        Internet     0.00\n",
              "\n",
              "[5 rows x 17 columns]"
            ]
          },
          "metadata": {
            "tags": []
          },
          "execution_count": 8
        }
      ]
    },
    {
      "cell_type": "code",
      "metadata": {
        "id": "msBGIzejGD6T"
      },
      "source": [
        "rt ['Data da venda'] = pd.to_datetime(rt['Data da venda'])\n",
        "rt ['Data 1º pagamento'] = pd.to_datetime(rt['Data 1º pagamento'])"
      ],
      "execution_count": null,
      "outputs": []
    },
    {
      "cell_type": "code",
      "metadata": {
        "id": "mb5103iCGD3I",
        "colab": {
          "base_uri": "https://localhost:8080/",
          "height": 343
        },
        "outputId": "d5f6af17-1306-492a-d802-759e51019c16"
      },
      "source": [
        "rt.head()"
      ],
      "execution_count": null,
      "outputs": [
        {
          "output_type": "execute_result",
          "data": {
            "text/html": [
              "<div>\n",
              "<style scoped>\n",
              "    .dataframe tbody tr th:only-of-type {\n",
              "        vertical-align: middle;\n",
              "    }\n",
              "\n",
              "    .dataframe tbody tr th {\n",
              "        vertical-align: top;\n",
              "    }\n",
              "\n",
              "    .dataframe thead th {\n",
              "        text-align: right;\n",
              "    }\n",
              "</style>\n",
              "<table border=\"1\" class=\"dataframe\">\n",
              "  <thead>\n",
              "    <tr style=\"text-align: right;\">\n",
              "      <th></th>\n",
              "      <th>Produto</th>\n",
              "      <th>Categoria</th>\n",
              "      <th>Valor</th>\n",
              "      <th>Quantidade</th>\n",
              "      <th>Total bruto</th>\n",
              "      <th>Forma de pagamento</th>\n",
              "      <th>Data da venda</th>\n",
              "      <th>Mês da venda</th>\n",
              "      <th>Ano da Venda</th>\n",
              "      <th>Data 1º pagamento</th>\n",
              "      <th>Desconto concedido à vista</th>\n",
              "      <th>Total liquido</th>\n",
              "      <th>Nº filial</th>\n",
              "      <th>Filial</th>\n",
              "      <th>Vendedor</th>\n",
              "      <th>Canal de venda</th>\n",
              "      <th>Comissão</th>\n",
              "    </tr>\n",
              "  </thead>\n",
              "  <tbody>\n",
              "    <tr>\n",
              "      <th>0</th>\n",
              "      <td>Casaco</td>\n",
              "      <td>Seção Feminina</td>\n",
              "      <td>44</td>\n",
              "      <td>8</td>\n",
              "      <td>352</td>\n",
              "      <td>À vista boleto</td>\n",
              "      <td>2017-01-01</td>\n",
              "      <td>janeiro</td>\n",
              "      <td>2017</td>\n",
              "      <td>2017-01-02</td>\n",
              "      <td>24.64</td>\n",
              "      <td>327.36</td>\n",
              "      <td>3</td>\n",
              "      <td>Sudeste</td>\n",
              "      <td>Micaela</td>\n",
              "      <td>Manual</td>\n",
              "      <td>17.60</td>\n",
              "    </tr>\n",
              "    <tr>\n",
              "      <th>1</th>\n",
              "      <td>Calça</td>\n",
              "      <td>Seção Masculina</td>\n",
              "      <td>38</td>\n",
              "      <td>17</td>\n",
              "      <td>646</td>\n",
              "      <td>À vista boleto</td>\n",
              "      <td>2017-01-02</td>\n",
              "      <td>janeiro</td>\n",
              "      <td>2017</td>\n",
              "      <td>2017-01-03</td>\n",
              "      <td>45.22</td>\n",
              "      <td>600.78</td>\n",
              "      <td>2</td>\n",
              "      <td>Sul</td>\n",
              "      <td>Micaela</td>\n",
              "      <td>Manual</td>\n",
              "      <td>32.30</td>\n",
              "    </tr>\n",
              "    <tr>\n",
              "      <th>2</th>\n",
              "      <td>Sapato</td>\n",
              "      <td>Seção Masculina</td>\n",
              "      <td>26</td>\n",
              "      <td>6</td>\n",
              "      <td>156</td>\n",
              "      <td>Boleto à prazo</td>\n",
              "      <td>2017-01-03</td>\n",
              "      <td>janeiro</td>\n",
              "      <td>2017</td>\n",
              "      <td>2017-02-02</td>\n",
              "      <td>0.00</td>\n",
              "      <td>156.00</td>\n",
              "      <td>1</td>\n",
              "      <td>E-commerce</td>\n",
              "      <td>E-commerce</td>\n",
              "      <td>Internet</td>\n",
              "      <td>0.00</td>\n",
              "    </tr>\n",
              "    <tr>\n",
              "      <th>3</th>\n",
              "      <td>Vestido</td>\n",
              "      <td>Seção Feminina</td>\n",
              "      <td>21</td>\n",
              "      <td>67</td>\n",
              "      <td>1407</td>\n",
              "      <td>Boleto à prazo</td>\n",
              "      <td>2017-01-03</td>\n",
              "      <td>janeiro</td>\n",
              "      <td>2017</td>\n",
              "      <td>2017-02-02</td>\n",
              "      <td>0.00</td>\n",
              "      <td>1407.00</td>\n",
              "      <td>2</td>\n",
              "      <td>Sul</td>\n",
              "      <td>Natália</td>\n",
              "      <td>Manual</td>\n",
              "      <td>211.05</td>\n",
              "    </tr>\n",
              "    <tr>\n",
              "      <th>4</th>\n",
              "      <td>Vestido</td>\n",
              "      <td>Seção Feminina</td>\n",
              "      <td>21</td>\n",
              "      <td>43</td>\n",
              "      <td>903</td>\n",
              "      <td>Boleto à prazo</td>\n",
              "      <td>2017-01-04</td>\n",
              "      <td>janeiro</td>\n",
              "      <td>2017</td>\n",
              "      <td>2017-02-03</td>\n",
              "      <td>0.00</td>\n",
              "      <td>903.00</td>\n",
              "      <td>1</td>\n",
              "      <td>E-commerce</td>\n",
              "      <td>E-commerce</td>\n",
              "      <td>Internet</td>\n",
              "      <td>0.00</td>\n",
              "    </tr>\n",
              "  </tbody>\n",
              "</table>\n",
              "</div>"
            ],
            "text/plain": [
              "   Produto        Categoria  Valor  ...    Vendedor  Canal de venda Comissão\n",
              "0   Casaco   Seção Feminina     44  ...     Micaela          Manual    17.60\n",
              "1    Calça  Seção Masculina     38  ...     Micaela          Manual    32.30\n",
              "2   Sapato  Seção Masculina     26  ...  E-commerce        Internet     0.00\n",
              "3  Vestido   Seção Feminina     21  ...     Natália          Manual   211.05\n",
              "4  Vestido   Seção Feminina     21  ...  E-commerce        Internet     0.00\n",
              "\n",
              "[5 rows x 17 columns]"
            ]
          },
          "metadata": {
            "tags": []
          },
          "execution_count": 10
        }
      ]
    },
    {
      "cell_type": "code",
      "metadata": {
        "id": "5BAIa8uHGDwl",
        "colab": {
          "base_uri": "https://localhost:8080/",
          "height": 215
        },
        "outputId": "bb77f173-4821-4cd8-827c-8a3128db4d16"
      },
      "source": [
        "rt.groupby('Produto')['Produto'].count()"
      ],
      "execution_count": null,
      "outputs": [
        {
          "output_type": "execute_result",
          "data": {
            "text/plain": [
              "Produto\n",
              "Calça        182\n",
              "Camisa       182\n",
              "Casaco       183\n",
              "Saia         179\n",
              "Sapatilha    180\n",
              "Sapato       184\n",
              "Short        180\n",
              "Tênis        184\n",
              "Vestido      181\n",
              "Name: Produto, dtype: int64"
            ]
          },
          "metadata": {
            "tags": []
          },
          "execution_count": 11
        }
      ]
    },
    {
      "cell_type": "code",
      "metadata": {
        "id": "kj7Zq2j4Fkf4",
        "colab": {
          "base_uri": "https://localhost:8080/",
          "height": 161
        },
        "outputId": "d4891463-2432-4035-e0da-80915e1c1e5c"
      },
      "source": [
        "rt.groupby('Filial')['Filial'].count()"
      ],
      "execution_count": null,
      "outputs": [
        {
          "output_type": "execute_result",
          "data": {
            "text/plain": [
              "Filial\n",
              "Centro-Oeste    292\n",
              "E-commerce      188\n",
              "Nordeste        287\n",
              "Norte           279\n",
              "Sudeste         304\n",
              "Sul             285\n",
              "Name: Filial, dtype: int64"
            ]
          },
          "metadata": {
            "tags": []
          },
          "execution_count": 12
        }
      ]
    },
    {
      "cell_type": "code",
      "metadata": {
        "id": "wrN87XsFFwZd",
        "colab": {
          "base_uri": "https://localhost:8080/",
          "height": 125
        },
        "outputId": "6c844249-ce0f-4845-dc8c-c3008e4c6f45"
      },
      "source": [
        "rt.groupby('Forma de pagamento')['Forma de pagamento'].count()"
      ],
      "execution_count": null,
      "outputs": [
        {
          "output_type": "execute_result",
          "data": {
            "text/plain": [
              "Forma de pagamento\n",
              "Boleto à prazo      752\n",
              "Cartão parcelado    456\n",
              "Cartão à vista      262\n",
              "À vista boleto      165\n",
              "Name: Forma de pagamento, dtype: int64"
            ]
          },
          "metadata": {
            "tags": []
          },
          "execution_count": 13
        }
      ]
    },
    {
      "cell_type": "code",
      "metadata": {
        "id": "CwCg2ce1F-FJ",
        "colab": {
          "base_uri": "https://localhost:8080/",
          "height": 89
        },
        "outputId": "7c8c52d7-f713-4346-b35c-89517b1b0208"
      },
      "source": [
        "rt.groupby('Categoria')['Categoria'].count()"
      ],
      "execution_count": null,
      "outputs": [
        {
          "output_type": "execute_result",
          "data": {
            "text/plain": [
              "Categoria\n",
              "Seção Feminina     903\n",
              "Seção Masculina    732\n",
              "Name: Categoria, dtype: int64"
            ]
          },
          "metadata": {
            "tags": []
          },
          "execution_count": 14
        }
      ]
    },
    {
      "cell_type": "code",
      "metadata": {
        "id": "Os7DytohGG5B",
        "colab": {
          "base_uri": "https://localhost:8080/",
          "height": 179
        },
        "outputId": "0e80a687-bc03-4774-d0b1-6fb2e1b92275"
      },
      "source": [
        "rt.groupby('Vendedor')['Vendedor'].count()"
      ],
      "execution_count": null,
      "outputs": [
        {
          "output_type": "execute_result",
          "data": {
            "text/plain": [
              "Vendedor\n",
              "Deivid        276\n",
              "E-commerce    188\n",
              "Ivete         290\n",
              "Maicon        112\n",
              "Micaela       287\n",
              "Natália       217\n",
              "Nicoly        265\n",
              "Name: Vendedor, dtype: int64"
            ]
          },
          "metadata": {
            "tags": []
          },
          "execution_count": 15
        }
      ]
    },
    {
      "cell_type": "code",
      "metadata": {
        "id": "Goy9Hpd0Glh5",
        "colab": {
          "base_uri": "https://localhost:8080/",
          "height": 35
        },
        "outputId": "f834c9f3-5f0d-4e0a-e2ab-0b3873a45d42"
      },
      "source": [
        "rt['Vendedor'].count().sum()"
      ],
      "execution_count": null,
      "outputs": [
        {
          "output_type": "execute_result",
          "data": {
            "text/plain": [
              "1635"
            ]
          },
          "metadata": {
            "tags": []
          },
          "execution_count": 16
        }
      ]
    },
    {
      "cell_type": "code",
      "metadata": {
        "id": "uKR24xrIdgAi",
        "colab": {
          "base_uri": "https://localhost:8080/",
          "height": 89
        },
        "outputId": "f3e6b48e-1b01-4d42-9053-a80408b6a158"
      },
      "source": [
        "rt.groupby('Ano da Venda')['Ano da Venda'].count()"
      ],
      "execution_count": null,
      "outputs": [
        {
          "output_type": "execute_result",
          "data": {
            "text/plain": [
              "Ano da Venda\n",
              "2017    771\n",
              "2018    864\n",
              "Name: Ano da Venda, dtype: int64"
            ]
          },
          "metadata": {
            "tags": []
          },
          "execution_count": 20
        }
      ]
    },
    {
      "cell_type": "code",
      "metadata": {
        "id": "clM-01_OK9lA"
      },
      "source": [
        "casaco = rt.query('Produto == \"Casaco\"')"
      ],
      "execution_count": null,
      "outputs": []
    },
    {
      "cell_type": "code",
      "metadata": {
        "id": "Xvgh63xMMGLH",
        "colab": {
          "base_uri": "https://localhost:8080/",
          "height": 343
        },
        "outputId": "0f807d30-9811-446d-b6f1-f30d2d48a0e3"
      },
      "source": [
        "casaco.head()"
      ],
      "execution_count": null,
      "outputs": [
        {
          "output_type": "execute_result",
          "data": {
            "text/html": [
              "<div>\n",
              "<style scoped>\n",
              "    .dataframe tbody tr th:only-of-type {\n",
              "        vertical-align: middle;\n",
              "    }\n",
              "\n",
              "    .dataframe tbody tr th {\n",
              "        vertical-align: top;\n",
              "    }\n",
              "\n",
              "    .dataframe thead th {\n",
              "        text-align: right;\n",
              "    }\n",
              "</style>\n",
              "<table border=\"1\" class=\"dataframe\">\n",
              "  <thead>\n",
              "    <tr style=\"text-align: right;\">\n",
              "      <th></th>\n",
              "      <th>Produto</th>\n",
              "      <th>Categoria</th>\n",
              "      <th>Valor</th>\n",
              "      <th>Quantidade</th>\n",
              "      <th>Total bruto</th>\n",
              "      <th>Forma de pagamento</th>\n",
              "      <th>Data da venda</th>\n",
              "      <th>Mês da venda</th>\n",
              "      <th>Ano da Venda</th>\n",
              "      <th>Data 1º pagamento</th>\n",
              "      <th>Desconto concedido à vista</th>\n",
              "      <th>Total liquido</th>\n",
              "      <th>Nº filial</th>\n",
              "      <th>Filial</th>\n",
              "      <th>Vendedor</th>\n",
              "      <th>Canal de venda</th>\n",
              "      <th>Comissão</th>\n",
              "    </tr>\n",
              "  </thead>\n",
              "  <tbody>\n",
              "    <tr>\n",
              "      <th>0</th>\n",
              "      <td>Casaco</td>\n",
              "      <td>Seção Feminina</td>\n",
              "      <td>44</td>\n",
              "      <td>8</td>\n",
              "      <td>352</td>\n",
              "      <td>À vista boleto</td>\n",
              "      <td>2017-01-01</td>\n",
              "      <td>janeiro</td>\n",
              "      <td>2017</td>\n",
              "      <td>2017-01-02</td>\n",
              "      <td>24.64</td>\n",
              "      <td>327.36</td>\n",
              "      <td>3</td>\n",
              "      <td>Sudeste</td>\n",
              "      <td>Micaela</td>\n",
              "      <td>Manual</td>\n",
              "      <td>17.6</td>\n",
              "    </tr>\n",
              "    <tr>\n",
              "      <th>9</th>\n",
              "      <td>Casaco</td>\n",
              "      <td>Seção Feminina</td>\n",
              "      <td>44</td>\n",
              "      <td>55</td>\n",
              "      <td>2420</td>\n",
              "      <td>Cartão à vista</td>\n",
              "      <td>2017-01-05</td>\n",
              "      <td>janeiro</td>\n",
              "      <td>2017</td>\n",
              "      <td>2017-01-06</td>\n",
              "      <td>121.00</td>\n",
              "      <td>2299.00</td>\n",
              "      <td>3</td>\n",
              "      <td>Sudeste</td>\n",
              "      <td>Natália</td>\n",
              "      <td>Manual</td>\n",
              "      <td>363.0</td>\n",
              "    </tr>\n",
              "    <tr>\n",
              "      <th>38</th>\n",
              "      <td>Casaco</td>\n",
              "      <td>Seção Feminina</td>\n",
              "      <td>44</td>\n",
              "      <td>43</td>\n",
              "      <td>1892</td>\n",
              "      <td>Cartão parcelado</td>\n",
              "      <td>2017-01-15</td>\n",
              "      <td>janeiro</td>\n",
              "      <td>2017</td>\n",
              "      <td>2017-02-14</td>\n",
              "      <td>0.00</td>\n",
              "      <td>1892.00</td>\n",
              "      <td>3</td>\n",
              "      <td>Sudeste</td>\n",
              "      <td>Deivid</td>\n",
              "      <td>Manual</td>\n",
              "      <td>283.8</td>\n",
              "    </tr>\n",
              "    <tr>\n",
              "      <th>48</th>\n",
              "      <td>Casaco</td>\n",
              "      <td>Seção Feminina</td>\n",
              "      <td>44</td>\n",
              "      <td>58</td>\n",
              "      <td>2552</td>\n",
              "      <td>Boleto à prazo</td>\n",
              "      <td>2017-01-20</td>\n",
              "      <td>janeiro</td>\n",
              "      <td>2017</td>\n",
              "      <td>2017-02-19</td>\n",
              "      <td>0.00</td>\n",
              "      <td>2552.00</td>\n",
              "      <td>6</td>\n",
              "      <td>Norte</td>\n",
              "      <td>Maicon</td>\n",
              "      <td>Manual</td>\n",
              "      <td>382.8</td>\n",
              "    </tr>\n",
              "    <tr>\n",
              "      <th>53</th>\n",
              "      <td>Casaco</td>\n",
              "      <td>Seção Feminina</td>\n",
              "      <td>44</td>\n",
              "      <td>49</td>\n",
              "      <td>2156</td>\n",
              "      <td>À vista boleto</td>\n",
              "      <td>2017-01-24</td>\n",
              "      <td>janeiro</td>\n",
              "      <td>2017</td>\n",
              "      <td>2017-01-25</td>\n",
              "      <td>150.92</td>\n",
              "      <td>2005.08</td>\n",
              "      <td>2</td>\n",
              "      <td>Sul</td>\n",
              "      <td>Micaela</td>\n",
              "      <td>Manual</td>\n",
              "      <td>323.4</td>\n",
              "    </tr>\n",
              "  </tbody>\n",
              "</table>\n",
              "</div>"
            ],
            "text/plain": [
              "   Produto       Categoria  Valor  ...  Vendedor  Canal de venda Comissão\n",
              "0   Casaco  Seção Feminina     44  ...   Micaela          Manual     17.6\n",
              "9   Casaco  Seção Feminina     44  ...   Natália          Manual    363.0\n",
              "38  Casaco  Seção Feminina     44  ...    Deivid          Manual    283.8\n",
              "48  Casaco  Seção Feminina     44  ...    Maicon          Manual    382.8\n",
              "53  Casaco  Seção Feminina     44  ...   Micaela          Manual    323.4\n",
              "\n",
              "[5 rows x 17 columns]"
            ]
          },
          "metadata": {
            "tags": []
          },
          "execution_count": 26
        }
      ]
    },
    {
      "cell_type": "code",
      "metadata": {
        "id": "rQyQQmpYeMnP"
      },
      "source": [
        "fe = rt.query('Categoria == \"Seção Feminina\"')"
      ],
      "execution_count": null,
      "outputs": []
    },
    {
      "cell_type": "code",
      "metadata": {
        "id": "IjmXHoSHeW6-",
        "colab": {
          "base_uri": "https://localhost:8080/",
          "height": 343
        },
        "outputId": "8a0faa28-25a3-4066-9a6f-8f0f5df50ebb"
      },
      "source": [
        "fe.head()"
      ],
      "execution_count": null,
      "outputs": [
        {
          "output_type": "execute_result",
          "data": {
            "text/html": [
              "<div>\n",
              "<style scoped>\n",
              "    .dataframe tbody tr th:only-of-type {\n",
              "        vertical-align: middle;\n",
              "    }\n",
              "\n",
              "    .dataframe tbody tr th {\n",
              "        vertical-align: top;\n",
              "    }\n",
              "\n",
              "    .dataframe thead th {\n",
              "        text-align: right;\n",
              "    }\n",
              "</style>\n",
              "<table border=\"1\" class=\"dataframe\">\n",
              "  <thead>\n",
              "    <tr style=\"text-align: right;\">\n",
              "      <th></th>\n",
              "      <th>Produto</th>\n",
              "      <th>Categoria</th>\n",
              "      <th>Valor</th>\n",
              "      <th>Quantidade</th>\n",
              "      <th>Total bruto</th>\n",
              "      <th>Forma de pagamento</th>\n",
              "      <th>Data da venda</th>\n",
              "      <th>Mês da venda</th>\n",
              "      <th>Ano da Venda</th>\n",
              "      <th>Data 1º pagamento</th>\n",
              "      <th>Desconto concedido à vista</th>\n",
              "      <th>Total liquido</th>\n",
              "      <th>Nº filial</th>\n",
              "      <th>Filial</th>\n",
              "      <th>Vendedor</th>\n",
              "      <th>Canal de venda</th>\n",
              "      <th>Comissão</th>\n",
              "    </tr>\n",
              "  </thead>\n",
              "  <tbody>\n",
              "    <tr>\n",
              "      <th>0</th>\n",
              "      <td>Casaco</td>\n",
              "      <td>Seção Feminina</td>\n",
              "      <td>44</td>\n",
              "      <td>8</td>\n",
              "      <td>352</td>\n",
              "      <td>À vista boleto</td>\n",
              "      <td>2017-01-01</td>\n",
              "      <td>janeiro</td>\n",
              "      <td>2017</td>\n",
              "      <td>2017-01-02</td>\n",
              "      <td>24.64</td>\n",
              "      <td>327.36</td>\n",
              "      <td>3</td>\n",
              "      <td>Sudeste</td>\n",
              "      <td>Micaela</td>\n",
              "      <td>Manual</td>\n",
              "      <td>17.60</td>\n",
              "    </tr>\n",
              "    <tr>\n",
              "      <th>3</th>\n",
              "      <td>Vestido</td>\n",
              "      <td>Seção Feminina</td>\n",
              "      <td>21</td>\n",
              "      <td>67</td>\n",
              "      <td>1407</td>\n",
              "      <td>Boleto à prazo</td>\n",
              "      <td>2017-01-03</td>\n",
              "      <td>janeiro</td>\n",
              "      <td>2017</td>\n",
              "      <td>2017-02-02</td>\n",
              "      <td>0.00</td>\n",
              "      <td>1407.00</td>\n",
              "      <td>2</td>\n",
              "      <td>Sul</td>\n",
              "      <td>Natália</td>\n",
              "      <td>Manual</td>\n",
              "      <td>211.05</td>\n",
              "    </tr>\n",
              "    <tr>\n",
              "      <th>4</th>\n",
              "      <td>Vestido</td>\n",
              "      <td>Seção Feminina</td>\n",
              "      <td>21</td>\n",
              "      <td>43</td>\n",
              "      <td>903</td>\n",
              "      <td>Boleto à prazo</td>\n",
              "      <td>2017-01-04</td>\n",
              "      <td>janeiro</td>\n",
              "      <td>2017</td>\n",
              "      <td>2017-02-03</td>\n",
              "      <td>0.00</td>\n",
              "      <td>903.00</td>\n",
              "      <td>1</td>\n",
              "      <td>E-commerce</td>\n",
              "      <td>E-commerce</td>\n",
              "      <td>Internet</td>\n",
              "      <td>0.00</td>\n",
              "    </tr>\n",
              "    <tr>\n",
              "      <th>7</th>\n",
              "      <td>Vestido</td>\n",
              "      <td>Seção Feminina</td>\n",
              "      <td>21</td>\n",
              "      <td>18</td>\n",
              "      <td>378</td>\n",
              "      <td>Cartão parcelado</td>\n",
              "      <td>2017-01-05</td>\n",
              "      <td>janeiro</td>\n",
              "      <td>2017</td>\n",
              "      <td>2017-02-04</td>\n",
              "      <td>0.00</td>\n",
              "      <td>378.00</td>\n",
              "      <td>1</td>\n",
              "      <td>E-commerce</td>\n",
              "      <td>E-commerce</td>\n",
              "      <td>Internet</td>\n",
              "      <td>0.00</td>\n",
              "    </tr>\n",
              "    <tr>\n",
              "      <th>8</th>\n",
              "      <td>Short</td>\n",
              "      <td>Seção Feminina</td>\n",
              "      <td>35</td>\n",
              "      <td>29</td>\n",
              "      <td>1015</td>\n",
              "      <td>Boleto à prazo</td>\n",
              "      <td>2017-01-05</td>\n",
              "      <td>janeiro</td>\n",
              "      <td>2017</td>\n",
              "      <td>2017-02-04</td>\n",
              "      <td>0.00</td>\n",
              "      <td>1015.00</td>\n",
              "      <td>1</td>\n",
              "      <td>E-commerce</td>\n",
              "      <td>E-commerce</td>\n",
              "      <td>Internet</td>\n",
              "      <td>0.00</td>\n",
              "    </tr>\n",
              "  </tbody>\n",
              "</table>\n",
              "</div>"
            ],
            "text/plain": [
              "   Produto       Categoria  Valor  ...    Vendedor  Canal de venda Comissão\n",
              "0   Casaco  Seção Feminina     44  ...     Micaela          Manual    17.60\n",
              "3  Vestido  Seção Feminina     21  ...     Natália          Manual   211.05\n",
              "4  Vestido  Seção Feminina     21  ...  E-commerce        Internet     0.00\n",
              "7  Vestido  Seção Feminina     21  ...  E-commerce        Internet     0.00\n",
              "8    Short  Seção Feminina     35  ...  E-commerce        Internet     0.00\n",
              "\n",
              "[5 rows x 17 columns]"
            ]
          },
          "metadata": {
            "tags": []
          },
          "execution_count": 33
        }
      ]
    },
    {
      "cell_type": "code",
      "metadata": {
        "id": "vMKObSc8MX9X"
      },
      "source": [
        "cae = rt.loc[(rt.Produto == \"Casaco\")]"
      ],
      "execution_count": null,
      "outputs": []
    },
    {
      "cell_type": "code",
      "metadata": {
        "id": "1Hz0ecetNIDi",
        "colab": {
          "base_uri": "https://localhost:8080/",
          "height": 343
        },
        "outputId": "c8c0274b-4980-4bbc-b44e-e27fc32c971f"
      },
      "source": [
        "cae.head()"
      ],
      "execution_count": null,
      "outputs": [
        {
          "output_type": "execute_result",
          "data": {
            "text/html": [
              "<div>\n",
              "<style scoped>\n",
              "    .dataframe tbody tr th:only-of-type {\n",
              "        vertical-align: middle;\n",
              "    }\n",
              "\n",
              "    .dataframe tbody tr th {\n",
              "        vertical-align: top;\n",
              "    }\n",
              "\n",
              "    .dataframe thead th {\n",
              "        text-align: right;\n",
              "    }\n",
              "</style>\n",
              "<table border=\"1\" class=\"dataframe\">\n",
              "  <thead>\n",
              "    <tr style=\"text-align: right;\">\n",
              "      <th></th>\n",
              "      <th>Produto</th>\n",
              "      <th>Categoria</th>\n",
              "      <th>Valor</th>\n",
              "      <th>Quantidade</th>\n",
              "      <th>Total bruto</th>\n",
              "      <th>Forma de pagamento</th>\n",
              "      <th>Data da venda</th>\n",
              "      <th>Mês da venda</th>\n",
              "      <th>Ano da Venda</th>\n",
              "      <th>Data 1º pagamento</th>\n",
              "      <th>Desconto concedido à vista</th>\n",
              "      <th>Total liquido</th>\n",
              "      <th>Nº filial</th>\n",
              "      <th>Filial</th>\n",
              "      <th>Vendedor</th>\n",
              "      <th>Canal de venda</th>\n",
              "      <th>Comissão</th>\n",
              "    </tr>\n",
              "  </thead>\n",
              "  <tbody>\n",
              "    <tr>\n",
              "      <th>0</th>\n",
              "      <td>Casaco</td>\n",
              "      <td>Seção Feminina</td>\n",
              "      <td>44</td>\n",
              "      <td>8</td>\n",
              "      <td>352</td>\n",
              "      <td>À vista boleto</td>\n",
              "      <td>2017-01-01</td>\n",
              "      <td>janeiro</td>\n",
              "      <td>2017</td>\n",
              "      <td>2017-01-02</td>\n",
              "      <td>24.64</td>\n",
              "      <td>327.36</td>\n",
              "      <td>3</td>\n",
              "      <td>Sudeste</td>\n",
              "      <td>Micaela</td>\n",
              "      <td>Manual</td>\n",
              "      <td>17.6</td>\n",
              "    </tr>\n",
              "    <tr>\n",
              "      <th>9</th>\n",
              "      <td>Casaco</td>\n",
              "      <td>Seção Feminina</td>\n",
              "      <td>44</td>\n",
              "      <td>55</td>\n",
              "      <td>2420</td>\n",
              "      <td>Cartão à vista</td>\n",
              "      <td>2017-01-05</td>\n",
              "      <td>janeiro</td>\n",
              "      <td>2017</td>\n",
              "      <td>2017-01-06</td>\n",
              "      <td>121.00</td>\n",
              "      <td>2299.00</td>\n",
              "      <td>3</td>\n",
              "      <td>Sudeste</td>\n",
              "      <td>Natália</td>\n",
              "      <td>Manual</td>\n",
              "      <td>363.0</td>\n",
              "    </tr>\n",
              "    <tr>\n",
              "      <th>38</th>\n",
              "      <td>Casaco</td>\n",
              "      <td>Seção Feminina</td>\n",
              "      <td>44</td>\n",
              "      <td>43</td>\n",
              "      <td>1892</td>\n",
              "      <td>Cartão parcelado</td>\n",
              "      <td>2017-01-15</td>\n",
              "      <td>janeiro</td>\n",
              "      <td>2017</td>\n",
              "      <td>2017-02-14</td>\n",
              "      <td>0.00</td>\n",
              "      <td>1892.00</td>\n",
              "      <td>3</td>\n",
              "      <td>Sudeste</td>\n",
              "      <td>Deivid</td>\n",
              "      <td>Manual</td>\n",
              "      <td>283.8</td>\n",
              "    </tr>\n",
              "    <tr>\n",
              "      <th>48</th>\n",
              "      <td>Casaco</td>\n",
              "      <td>Seção Feminina</td>\n",
              "      <td>44</td>\n",
              "      <td>58</td>\n",
              "      <td>2552</td>\n",
              "      <td>Boleto à prazo</td>\n",
              "      <td>2017-01-20</td>\n",
              "      <td>janeiro</td>\n",
              "      <td>2017</td>\n",
              "      <td>2017-02-19</td>\n",
              "      <td>0.00</td>\n",
              "      <td>2552.00</td>\n",
              "      <td>6</td>\n",
              "      <td>Norte</td>\n",
              "      <td>Maicon</td>\n",
              "      <td>Manual</td>\n",
              "      <td>382.8</td>\n",
              "    </tr>\n",
              "    <tr>\n",
              "      <th>53</th>\n",
              "      <td>Casaco</td>\n",
              "      <td>Seção Feminina</td>\n",
              "      <td>44</td>\n",
              "      <td>49</td>\n",
              "      <td>2156</td>\n",
              "      <td>À vista boleto</td>\n",
              "      <td>2017-01-24</td>\n",
              "      <td>janeiro</td>\n",
              "      <td>2017</td>\n",
              "      <td>2017-01-25</td>\n",
              "      <td>150.92</td>\n",
              "      <td>2005.08</td>\n",
              "      <td>2</td>\n",
              "      <td>Sul</td>\n",
              "      <td>Micaela</td>\n",
              "      <td>Manual</td>\n",
              "      <td>323.4</td>\n",
              "    </tr>\n",
              "  </tbody>\n",
              "</table>\n",
              "</div>"
            ],
            "text/plain": [
              "   Produto       Categoria  Valor  ...  Vendedor  Canal de venda Comissão\n",
              "0   Casaco  Seção Feminina     44  ...   Micaela          Manual     17.6\n",
              "9   Casaco  Seção Feminina     44  ...   Natália          Manual    363.0\n",
              "38  Casaco  Seção Feminina     44  ...    Deivid          Manual    283.8\n",
              "48  Casaco  Seção Feminina     44  ...    Maicon          Manual    382.8\n",
              "53  Casaco  Seção Feminina     44  ...   Micaela          Manual    323.4\n",
              "\n",
              "[5 rows x 17 columns]"
            ]
          },
          "metadata": {
            "tags": []
          },
          "execution_count": 35
        }
      ]
    },
    {
      "cell_type": "code",
      "metadata": {
        "id": "eGcKwByINgre",
        "colab": {
          "base_uri": "https://localhost:8080/",
          "height": 197
        },
        "outputId": "14cc1302-9ee0-4223-c947-dbc16e54f4ae"
      },
      "source": [
        "rt[u'Produto'].value_counts()\n",
        "\n",
        "#quantidade/produtos"
      ],
      "execution_count": null,
      "outputs": [
        {
          "output_type": "execute_result",
          "data": {
            "text/plain": [
              "Sapato       184\n",
              "Tênis        184\n",
              "Casaco       183\n",
              "Camisa       182\n",
              "Calça        182\n",
              "Vestido      181\n",
              "Short        180\n",
              "Sapatilha    180\n",
              "Saia         179\n",
              "Name: Produto, dtype: int64"
            ]
          },
          "metadata": {
            "tags": []
          },
          "execution_count": 36
        }
      ]
    },
    {
      "cell_type": "code",
      "metadata": {
        "id": "_qsISnYLPfdS",
        "colab": {
          "base_uri": "https://localhost:8080/",
          "height": 1000
        },
        "outputId": "3a842984-2626-4820-af58-436369d4b6f0"
      },
      "source": [
        "rt.groupby('Produto')[u'Filial'].value_counts()\n",
        "\n",
        "#produtos vendidos/filial"
      ],
      "execution_count": null,
      "outputs": [
        {
          "output_type": "execute_result",
          "data": {
            "text/plain": [
              "Produto    Filial      \n",
              "Calça      Centro-Oeste    40\n",
              "           Sudeste         38\n",
              "           Nordeste        36\n",
              "           Norte           27\n",
              "           Sul             26\n",
              "           E-commerce      15\n",
              "Camisa     Centro-Oeste    37\n",
              "           Sudeste         37\n",
              "           Nordeste        35\n",
              "           Sul             31\n",
              "           Norte           25\n",
              "           E-commerce      17\n",
              "Casaco     Centro-Oeste    36\n",
              "           Sudeste         36\n",
              "           Norte           32\n",
              "           Sul             32\n",
              "           Nordeste        30\n",
              "           E-commerce      17\n",
              "Saia       Sudeste         36\n",
              "           Centro-Oeste    32\n",
              "           Nordeste        32\n",
              "           Sul             30\n",
              "           E-commerce      26\n",
              "           Norte           23\n",
              "Sapatilha  Nordeste        40\n",
              "           Centro-Oeste    35\n",
              "           Norte           32\n",
              "           Sul             29\n",
              "           Sudeste         26\n",
              "           E-commerce      18\n",
              "Sapato     Nordeste        37\n",
              "           Norte           34\n",
              "           Sul             33\n",
              "           Centro-Oeste    29\n",
              "           Sudeste         27\n",
              "           E-commerce      24\n",
              "Short      Centro-Oeste    34\n",
              "           Norte           33\n",
              "           Sul             31\n",
              "           Nordeste        30\n",
              "           Sudeste         27\n",
              "           E-commerce      25\n",
              "Tênis      Sudeste         42\n",
              "           Sul             39\n",
              "           Norte           36\n",
              "           Centro-Oeste    25\n",
              "           Nordeste        23\n",
              "           E-commerce      19\n",
              "Vestido    Norte           37\n",
              "           Sudeste         35\n",
              "           Sul             34\n",
              "           E-commerce      27\n",
              "           Centro-Oeste    24\n",
              "           Nordeste        24\n",
              "Name: Filial, dtype: int64"
            ]
          },
          "metadata": {
            "tags": []
          },
          "execution_count": 45
        }
      ]
    },
    {
      "cell_type": "code",
      "metadata": {
        "id": "PAg0VxgJP2AG",
        "colab": {
          "base_uri": "https://localhost:8080/",
          "height": 283
        },
        "outputId": "33cf086d-a5dd-4795-d28f-5c9230f91b4f"
      },
      "source": [
        "rt2 = rt[rt['Produto']=='Casaco']\n",
        "rt2.groupby(u'Filial')['Produto'].value_counts().plot.barh()"
      ],
      "execution_count": null,
      "outputs": [
        {
          "output_type": "execute_result",
          "data": {
            "text/plain": [
              "<matplotlib.axes._subplots.AxesSubplot at 0x7f41e60847b8>"
            ]
          },
          "metadata": {
            "tags": []
          },
          "execution_count": 38
        },
        {
          "output_type": "display_data",
          "data": {
            "image/png": "[encoded data removed]",
            "text/plain": [
              "<Figure size 432x288 with 1 Axes>"
            ]
          },
          "metadata": {
            "tags": []
          }
        }
      ]
    },
    {
      "cell_type": "code",
      "metadata": {
        "id": "DG595SvzQe07",
        "colab": {
          "base_uri": "https://localhost:8080/",
          "height": 283
        },
        "outputId": "74e3fbaa-6215-491e-bad8-cb37355dcb40"
      },
      "source": [
        "rt2 = rt[rt['Produto']=='Casaco']\n",
        "rt2.groupby(u'Forma de pagamento')['Produto'].value_counts().plot.barh()"
      ],
      "execution_count": null,
      "outputs": [
        {
          "output_type": "execute_result",
          "data": {
            "text/plain": [
              "<matplotlib.axes._subplots.AxesSubplot at 0x7f41e41b57b8>"
            ]
          },
          "metadata": {
            "tags": []
          },
          "execution_count": 50
        },
        {
          "output_type": "display_data",
          "data": {
            "image/png": "[encoded data removed]",
            "text/plain": [
              "<Figure size 432x288 with 1 Axes>"
            ]
          },
          "metadata": {
            "tags": []
          }
        }
      ]
    },
    {
      "cell_type": "code",
      "metadata": {
        "id": "mg8VAr9FN0ie",
        "colab": {
          "base_uri": "https://localhost:8080/",
          "height": 215
        },
        "outputId": "0f3d921d-5a9f-4091-fe7c-9989bb45657b"
      },
      "source": [
        "rt.groupby('Produto')['Quantidade'].count()"
      ],
      "execution_count": null,
      "outputs": [
        {
          "output_type": "execute_result",
          "data": {
            "text/plain": [
              "Produto\n",
              "Calça        182\n",
              "Camisa       182\n",
              "Casaco       183\n",
              "Saia         179\n",
              "Sapatilha    180\n",
              "Sapato       184\n",
              "Short        180\n",
              "Tênis        184\n",
              "Vestido      181\n",
              "Name: Quantidade, dtype: int64"
            ]
          },
          "metadata": {
            "tags": []
          },
          "execution_count": 47
        }
      ]
    },
    {
      "cell_type": "code",
      "metadata": {
        "id": "I8ymWy73N0OV",
        "colab": {
          "base_uri": "https://localhost:8080/",
          "height": 377
        },
        "outputId": "1c29f353-58a2-45e6-820f-207c724b5735"
      },
      "source": [
        "rt.groupby('Produto')[u'Ano da Venda'].value_counts()"
      ],
      "execution_count": null,
      "outputs": [
        {
          "output_type": "execute_result",
          "data": {
            "text/plain": [
              "Produto    Ano da Venda\n",
              "Calça      2018            96\n",
              "           2017            86\n",
              "Camisa     2018            96\n",
              "           2017            86\n",
              "Casaco     2018            96\n",
              "           2017            87\n",
              "Saia       2018            96\n",
              "           2017            83\n",
              "Sapatilha  2018            96\n",
              "           2017            84\n",
              "Sapato     2018            96\n",
              "           2017            88\n",
              "Short      2018            96\n",
              "           2017            84\n",
              "Tênis      2018            96\n",
              "           2017            88\n",
              "Vestido    2018            96\n",
              "           2017            85\n",
              "Name: Ano da Venda, dtype: int64"
            ]
          },
          "metadata": {
            "tags": []
          },
          "execution_count": 42
        }
      ]
    },
    {
      "cell_type": "code",
      "metadata": {
        "id": "zhDLdrsSN0Ip",
        "colab": {
          "base_uri": "https://localhost:8080/",
          "height": 377
        },
        "outputId": "2a0d2e4d-eb68-419b-85f3-1bb650e091c6"
      },
      "source": [
        "rt.groupby('Produto')[u'Canal de venda'].value_counts()"
      ],
      "execution_count": null,
      "outputs": [
        {
          "output_type": "execute_result",
          "data": {
            "text/plain": [
              "Produto    Canal de venda\n",
              "Calça      Manual            167\n",
              "           Internet           15\n",
              "Camisa     Manual            165\n",
              "           Internet           17\n",
              "Casaco     Manual            166\n",
              "           Internet           17\n",
              "Saia       Manual            153\n",
              "           Internet           26\n",
              "Sapatilha  Manual            162\n",
              "           Internet           18\n",
              "Sapato     Manual            160\n",
              "           Internet           24\n",
              "Short      Manual            155\n",
              "           Internet           25\n",
              "Tênis      Manual            165\n",
              "           Internet           19\n",
              "Vestido    Manual            154\n",
              "           Internet           27\n",
              "Name: Canal de venda, dtype: int64"
            ]
          },
          "metadata": {
            "tags": []
          },
          "execution_count": 43
        }
      ]
    },
    {
      "cell_type": "code",
      "metadata": {
        "id": "rI8gv-teGDvD",
        "colab": {
          "base_uri": "https://localhost:8080/",
          "height": 701
        },
        "outputId": "c6ba3048-778e-4b27-863a-d9d6c6f0f3c1"
      },
      "source": [
        "rt.groupby('Produto')[u'Forma de pagamento'].value_counts()"
      ],
      "execution_count": null,
      "outputs": [
        {
          "output_type": "execute_result",
          "data": {
            "text/plain": [
              "Produto    Forma de pagamento\n",
              "Calça      Boleto à prazo        75\n",
              "           Cartão parcelado      60\n",
              "           Cartão à vista        28\n",
              "           À vista boleto        19\n",
              "Camisa     Boleto à prazo        90\n",
              "           Cartão parcelado      56\n",
              "           Cartão à vista        22\n",
              "           À vista boleto        14\n",
              "Casaco     Boleto à prazo        75\n",
              "           Cartão parcelado      53\n",
              "           Cartão à vista        35\n",
              "           À vista boleto        20\n",
              "Saia       Boleto à prazo        94\n",
              "           Cartão parcelado      47\n",
              "           Cartão à vista        21\n",
              "           À vista boleto        17\n",
              "Sapatilha  Boleto à prazo        83\n",
              "           Cartão parcelado      42\n",
              "           Cartão à vista        29\n",
              "           À vista boleto        26\n",
              "Sapato     Boleto à prazo        96\n",
              "           Cartão parcelado      45\n",
              "           Cartão à vista        26\n",
              "           À vista boleto        17\n",
              "Short      Boleto à prazo        71\n",
              "           Cartão à vista        45\n",
              "           Cartão parcelado      41\n",
              "           À vista boleto        23\n",
              "Tênis      Boleto à prazo        85\n",
              "           Cartão parcelado      54\n",
              "           Cartão à vista        27\n",
              "           À vista boleto        18\n",
              "Vestido    Boleto à prazo        83\n",
              "           Cartão parcelado      58\n",
              "           Cartão à vista        29\n",
              "           À vista boleto        11\n",
              "Name: Forma de pagamento, dtype: int64"
            ]
          },
          "metadata": {
            "tags": []
          },
          "execution_count": 48
        }
      ]
    },
    {
      "cell_type": "code",
      "metadata": {
        "id": "6Ia0ulH7mSHp",
        "colab": {
          "base_uri": "https://localhost:8080/",
          "height": 283
        },
        "outputId": "daaf5c26-a67d-40d1-8e6c-19d30ead91d8"
      },
      "source": [
        "cal = rt[rt['Produto']=='Calça']\n",
        "cal.groupby(u'Forma de pagamento')['Produto'].value_counts().plot.barh()"
      ],
      "execution_count": null,
      "outputs": [
        {
          "output_type": "execute_result",
          "data": {
            "text/plain": [
              "<matplotlib.axes._subplots.AxesSubplot at 0x7f41e3abf470>"
            ]
          },
          "metadata": {
            "tags": []
          },
          "execution_count": 63
        },
        {
          "output_type": "display_data",
          "data": {
            "image/png": "[encoded data removed]",
            "text/plain": [
              "<Figure size 432x288 with 1 Axes>"
            ]
          },
          "metadata": {
            "tags": []
          }
        }
      ]
    },
    {
      "cell_type": "code",
      "metadata": {
        "id": "RYKxYh1tmNd2",
        "colab": {
          "base_uri": "https://localhost:8080/",
          "height": 283
        },
        "outputId": "7a5424e7-8f17-4f9f-cf3c-c34714b81f10"
      },
      "source": [
        "cam = rt[rt['Produto']=='Camisa']\n",
        "cam.groupby(u'Forma de pagamento')['Produto'].value_counts().plot.barh()"
      ],
      "execution_count": null,
      "outputs": [
        {
          "output_type": "execute_result",
          "data": {
            "text/plain": [
              "<matplotlib.axes._subplots.AxesSubplot at 0x7f41e5a5e128>"
            ]
          },
          "metadata": {
            "tags": []
          },
          "execution_count": 64
        },
        {
          "output_type": "display_data",
          "data": {
            "image/png": "[encoded data removed]",
            "text/plain": [
              "<Figure size 432x288 with 1 Axes>"
            ]
          },
          "metadata": {
            "tags": []
          }
        }
      ]
    },
    {
      "cell_type": "code",
      "metadata": {
        "id": "JcOcuDsHmJVE",
        "colab": {
          "base_uri": "https://localhost:8080/",
          "height": 283
        },
        "outputId": "914d7536-dcee-473d-ddda-6cc60fab6093"
      },
      "source": [
        "cas = rt[rt['Produto']=='Casaco']\n",
        "cas.groupby(u'Forma de pagamento')['Produto'].value_counts().plot.barh()"
      ],
      "execution_count": null,
      "outputs": [
        {
          "output_type": "execute_result",
          "data": {
            "text/plain": [
              "<matplotlib.axes._subplots.AxesSubplot at 0x7f41e5a274e0>"
            ]
          },
          "metadata": {
            "tags": []
          },
          "execution_count": 65
        },
        {
          "output_type": "display_data",
          "data": {
            "image/png": "[encoded data removed]",
            "text/plain": [
              "<Figure size 432x288 with 1 Axes>"
            ]
          },
          "metadata": {
            "tags": []
          }
        }
      ]
    },
    {
      "cell_type": "code",
      "metadata": {
        "id": "3sf1XPqZmEtS",
        "colab": {
          "base_uri": "https://localhost:8080/",
          "height": 283
        },
        "outputId": "82251ff6-adf1-4cdf-a30d-2aa4db1de83c"
      },
      "source": [
        "saia = rt[rt['Produto']=='Saia']\n",
        "saia.groupby(u'Forma de pagamento')['Produto'].value_counts().plot.barh()"
      ],
      "execution_count": null,
      "outputs": [
        {
          "output_type": "execute_result",
          "data": {
            "text/plain": [
              "<matplotlib.axes._subplots.AxesSubplot at 0x7f41e39cfdd8>"
            ]
          },
          "metadata": {
            "tags": []
          },
          "execution_count": 66
        },
        {
          "output_type": "display_data",
          "data": {
            "image/png": "[encoded data removed]",
            "text/plain": [
              "<Figure size 432x288 with 1 Axes>"
            ]
          },
          "metadata": {
            "tags": []
          }
        }
      ]
    },
    {
      "cell_type": "code",
      "metadata": {
        "id": "4NfF62J_l-Ir",
        "colab": {
          "base_uri": "https://localhost:8080/",
          "height": 283
        },
        "outputId": "b316a08e-4cb8-4bb4-c3d3-b3c24d4d67ef"
      },
      "source": [
        "sapa = rt[rt['Produto']=='Sapatilha']\n",
        "sapa.groupby(u'Forma de pagamento')['Produto'].value_counts().plot.barh()"
      ],
      "execution_count": null,
      "outputs": [
        {
          "output_type": "execute_result",
          "data": {
            "text/plain": [
              "<matplotlib.axes._subplots.AxesSubplot at 0x7f41e3c6f2e8>"
            ]
          },
          "metadata": {
            "tags": []
          },
          "execution_count": 67
        },
        {
          "output_type": "display_data",
          "data": {
            "image/png": "[encoded data removed]",
            "text/plain": [
              "<Figure size 432x288 with 1 Axes>"
            ]
          },
          "metadata": {
            "tags": []
          }
        }
      ]
    },
    {
      "cell_type": "code",
      "metadata": {
        "id": "ytRWLhmOl5D2",
        "colab": {
          "base_uri": "https://localhost:8080/",
          "height": 283
        },
        "outputId": "d28ce0df-2290-4b17-a82b-6d8fa0908fab"
      },
      "source": [
        "sap = rt[rt['Produto']=='Sapato']\n",
        "sap.groupby(u'Forma de pagamento')['Produto'].value_counts().plot.barh()"
      ],
      "execution_count": null,
      "outputs": [
        {
          "output_type": "execute_result",
          "data": {
            "text/plain": [
              "<matplotlib.axes._subplots.AxesSubplot at 0x7f41e38bceb8>"
            ]
          },
          "metadata": {
            "tags": []
          },
          "execution_count": 68
        },
        {
          "output_type": "display_data",
          "data": {
            "image/png": "[encoded data removed]",
            "text/plain": [
              "<Figure size 432x288 with 1 Axes>"
            ]
          },
          "metadata": {
            "tags": []
          }
        }
      ]
    },
    {
      "cell_type": "code",
      "metadata": {
        "id": "uruOFKAhl0Bp",
        "colab": {
          "base_uri": "https://localhost:8080/",
          "height": 283
        },
        "outputId": "881257e3-5c18-4ea2-afc9-14bfc445f568"
      },
      "source": [
        "sho = rt[rt['Produto']=='Short']\n",
        "sho.groupby(u'Forma de pagamento')['Produto'].value_counts().plot.barh()"
      ],
      "execution_count": null,
      "outputs": [
        {
          "output_type": "execute_result",
          "data": {
            "text/plain": [
              "<matplotlib.axes._subplots.AxesSubplot at 0x7f41e38aa240>"
            ]
          },
          "metadata": {
            "tags": []
          },
          "execution_count": 69
        },
        {
          "output_type": "display_data",
          "data": {
            "image/png": "[encoded data removed]",
            "text/plain": [
              "<Figure size 432x288 with 1 Axes>"
            ]
          },
          "metadata": {
            "tags": []
          }
        }
      ]
    },
    {
      "cell_type": "code",
      "metadata": {
        "id": "zF033Jh5lsKe",
        "colab": {
          "base_uri": "https://localhost:8080/",
          "height": 283
        },
        "outputId": "0bca51b9-4245-4560-adea-7557912ff714"
      },
      "source": [
        "te = rt[rt['Produto']=='Tênis']\n",
        "te.groupby(u'Forma de pagamento')['Produto'].value_counts().plot.barh()"
      ],
      "execution_count": null,
      "outputs": [
        {
          "output_type": "execute_result",
          "data": {
            "text/plain": [
              "<matplotlib.axes._subplots.AxesSubplot at 0x7f41e3b4bf60>"
            ]
          },
          "metadata": {
            "tags": []
          },
          "execution_count": 62
        },
        {
          "output_type": "display_data",
          "data": {
            "image/png": "[encoded data removed]",
            "text/plain": [
              "<Figure size 432x288 with 1 Axes>"
            ]
          },
          "metadata": {
            "tags": []
          }
        }
      ]
    },
    {
      "cell_type": "code",
      "metadata": {
        "id": "2vlOw2xXGDsv",
        "colab": {
          "base_uri": "https://localhost:8080/",
          "height": 283
        },
        "outputId": "f2137bbd-9c45-4493-f39d-e33c42e5aab3"
      },
      "source": [
        "vest = rt[rt['Produto']=='Vestido']\n",
        "vest.groupby(u'Forma de pagamento')['Produto'].value_counts().plot.barh()"
      ],
      "execution_count": null,
      "outputs": [
        {
          "output_type": "execute_result",
          "data": {
            "text/plain": [
              "<matplotlib.axes._subplots.AxesSubplot at 0x7f41e3bdecf8>"
            ]
          },
          "metadata": {
            "tags": []
          },
          "execution_count": 61
        },
        {
          "output_type": "display_data",
          "data": {
            "image/png": "[encoded data removed]",
            "text/plain": [
              "<Figure size 432x288 with 1 Axes>"
            ]
          },
          "metadata": {
            "tags": []
          }
        }
      ]
    }
  ]
}